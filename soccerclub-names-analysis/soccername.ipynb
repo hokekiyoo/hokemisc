{
 "cells": [
  {
   "cell_type": "code",
   "execution_count": 1,
   "metadata": {},
   "outputs": [],
   "source": [
    "%matplotlib inline\n",
    "import matplotlib.pyplot as plt\n",
    "import pandas as pd\n",
    "import numpy as np\n",
    "df = pd.read_csv(\"soccerclubs.csv\")"
   ]
  },
  {
   "cell_type": "markdown",
   "metadata": {},
   "source": [
    "# かな辞書作り\n",
    "\n",
    "- \"ーアイウエオカキクケコサシスセソタチツテトナニヌネノハヒフヘホマミムメモヤ,ユ,ヨラリルレロワ,,,ヲ\"\n",
    "- 濁音 : 50～74\n",
    "- 半濁音 : 75～79\n"
   ]
  },
  {
   "cell_type": "code",
   "execution_count": 2,
   "metadata": {},
   "outputs": [],
   "source": [
    "kana = \"アイウエオカキクケコサシスセソタチツテトナニヌネノハヒフヘホマミムメモヤ,ユ,ヨラリルレロワ,,,ヲ\"\n",
    "gana = \"ガギグゲゴザジズゼゾダヂヅデドバビブベボ,,ヴ,,\"\n",
    "pana = \"パピプペポ\"\n",
    "yo = \"ァィゥェォャ,ュ,ョ\"\n",
    "S = kana+gana+pana+yo+\"ー\"+\"ン\"+\"ッ\"\n",
    "kana_rev = {i:s for i,s in enumerate(S)}\n",
    "kana_set = {s:i for i,s in enumerate(S)}\n"
   ]
  },
  {
   "cell_type": "markdown",
   "metadata": {},
   "source": [
    "# どの文字が一番多いか\n"
   ]
  },
  {
   "cell_type": "code",
   "execution_count": 3,
   "metadata": {},
   "outputs": [
    {
     "data": {
      "image/png": "[encoded data removed]",
      "text/plain": [
       "<Figure size 720x360 with 1 Axes>"
      ]
     },
     "metadata": {
      "needs_background": "light"
     },
     "output_type": "display_data"
    }
   ],
   "source": [
    "def cnt_popular_chars(names):\n",
    "    cnts = np.ones(100)\n",
    "    for name in names:\n",
    "        for s in name:\n",
    "            # カタカナのみ\n",
    "            try:\n",
    "                ind = kana_set[s]\n",
    "                cnts[ind]+=1\n",
    "            except:\n",
    "                continue\n",
    "    # [cnts[a].sum(),cnts[i].sum(),cnts[u].sum(),cnts[e].sum(),cnts[o].sum()]\n",
    "    ind = cnts.argsort()[::-1] #ソート順\n",
    "    return ind,cnts\n",
    "\n",
    "\n",
    "ind,cnts = cnt_popular_chars(df.NAME.values)\n",
    "# ind,cnts = cnt_popular_chars(df[df.J==1].NAME.values) #J1\n",
    "plt.figure(figsize=(10,5))\n",
    "a = [kana_rev[i] for i in ind[:20]]\n",
    "plt.bar(range(20),cnts[ind[:20]],tick_label=a,color=\"#3498db\")\n",
    "plt.title(\"Popular Characters Best 20\")\n",
    "plt.savefig(\"sc_pop_char.png\")\n"
   ]
  },
  {
   "cell_type": "markdown",
   "metadata": {},
   "source": [
    "## これが入っているチームはどれくらい？\n",
    "- \"ン\"\n",
    "- \"ッ\"\n",
    "- \"-\"\n",
    "- \"濁音/半濁音\"\n",
    "- \"拗音\""
   ]
  },
  {
   "cell_type": "code",
   "execution_count": 4,
   "metadata": {},
   "outputs": [
    {
     "name": "stdout",
     "output_type": "stream",
     "text": [
      "all:\t1.00 1.00 1.00\n",
      "ン:\t0.37 0.23 0.17\n",
      "ッ:\t0.21 0.18 0.22\n",
      "ー:\t0.26 0.27 0.28\n",
      "ンッー:\t0.63 0.50 0.61\n",
      "濁音:\t0.63 0.59 0.50\n",
      "どれか:\t0.84 0.68 0.72\n"
     ]
    }
   ],
   "source": [
    "def cnt_specials(names):\n",
    "    cnt_team = 0\n",
    "    cnt_tt = 0 #ッを含む\n",
    "    cnt_n = 0 #ンを含む\n",
    "    cnt_l = 0 #ーを含む\n",
    "    cnt_any = 0 # ッ or ン or ーを含む\n",
    "    cnt_daku = 0 #濁音を含む\n",
    "    cnt_any_daku = 0 #上記すべてのうちどれかを含む\n",
    "    for name in names:\n",
    "        flg_tt = False\n",
    "        flg_n = False\n",
    "        flg_l = False\n",
    "        flg_daku = False\n",
    "        for s in name:\n",
    "            # カタカナのみ\n",
    "            try:\n",
    "                ind = kana_set[s]\n",
    "                cnts[ind]+=1\n",
    "                if ind == kana_set[\"ン\"]:flg_n = True\n",
    "                elif ind == kana_set[\"ッ\"]:flg_tt = True\n",
    "                elif ind == kana_set[\"ー\"]:flg_l = True\n",
    "                elif 49 < ind < 80 : flg_daku = True\n",
    "            except:\n",
    "                continue\n",
    "        cnt_team += 1\n",
    "        if flg_n : cnt_n+=1\n",
    "        if flg_tt: cnt_tt+=1\n",
    "        if flg_l : cnt_l+=1\n",
    "        if flg_daku :cnt_daku+=1\n",
    "        if flg_n or flg_tt or flg_l:\n",
    "            cnt_any += 1\n",
    "        if flg_n or flg_tt or flg_l or flg_daku:\n",
    "            cnt_any_daku += 1\n",
    "    return cnt_team,cnt_n, cnt_tt,cnt_l,cnt_any,cnt_daku,cnt_any_daku\n",
    "# 各Jリーグについて調べている\n",
    "J1 = cnt_specials(df[df.J == 1].NAME)\n",
    "J2 = cnt_specials(df[df.J == 2].NAME)\n",
    "J3 = cnt_specials(df[df.J == 3].NAME)\n",
    "lists = [\"all\",\"ン\",\"ッ\",\"ー\",\"ンッー\",\"濁音\",\"どれか\"]\n",
    "for l,j1,j2,j3 in zip(lists,J1,J2,J3):\n",
    "    print(\"{}:\\t{:.2f} {:.2f} {:.2f}\".format(l,j1/J1[0],j2/J2[0],j3/J3[0]))"
   ]
  },
  {
   "cell_type": "markdown",
   "metadata": {},
   "source": [
    "## どの母音が一番多いか"
   ]
  },
  {
   "cell_type": "code",
   "execution_count": 5,
   "metadata": {},
   "outputs": [
    {
     "data": {
      "image/png": "[encoded data removed]",
      "text/plain": [
       "<Figure size 432x288 with 1 Axes>"
      ]
     },
     "metadata": {
      "needs_background": "light"
     },
     "output_type": "display_data"
    }
   ],
   "source": [
    "aiueo = []\n",
    "for i in range(5):\n",
    "    aiueo.append(cnts[i:80:5].sum())\n",
    "plt.title(\"Vowels\")\n",
    "plt.bar(range(5),aiueo,tick_label=[\"ア\",\"イ\",\"ウ\",\"エ\",\"オ\"],color=\"#3498db\")\n",
    "plt.savefig(\"sc_vowels.png\")"
   ]
  },
  {
   "cell_type": "markdown",
   "metadata": {},
   "source": [
    "## どの子音が一番多いか"
   ]
  },
  {
   "cell_type": "code",
   "execution_count": 6,
   "metadata": {},
   "outputs": [
    {
     "data": {
      "image/png": "[encoded data removed]",
      "text/plain": [
       "<Figure size 432x288 with 1 Axes>"
      ]
     },
     "metadata": {
      "needs_background": "light"
     },
     "output_type": "display_data"
    }
   ],
   "source": [
    "cnt_combine = np.array([c for c in cnts])\n",
    "cnt_combine[67] += cnt_combine[72]\n",
    "akstnhyrwgzdbp = []\n",
    "label = []\n",
    "for i in range(16):\n",
    "    #ヴを除く\n",
    "    if i == 14:\n",
    "        continue\n",
    "    # print(kana_rev[5*i],cnt_combine[5*i:5*i+5].sum())\n",
    "    akstnhyrwgzdbp.append(cnt_combine[5*i:5*i+5].sum())\n",
    "    label.append(kana_rev[5*i])\n",
    "plt.title(\"Consonants\")\n",
    "plt.bar(range(15),akstnhyrwgzdbp,tick_label=label,color=\"#3498db\")\n",
    "plt.savefig(\"sc_consonants.png\")"
   ]
  },
  {
   "cell_type": "markdown",
   "metadata": {},
   "source": [
    "## 連結\n",
    "\n",
    "その語は、\n",
    "- 何文字中\n",
    "- 何文字目で\n",
    "- 前の語は何で\n",
    "- 後の語は何\n",
    "かを調べる"
   ]
  },
  {
   "cell_type": "code",
   "execution_count": 7,
   "metadata": {},
   "outputs": [
    {
     "name": "stdout",
     "output_type": "stream",
     "text": [
      "ー 6 5 ド レ\n",
      "ー 6 5 ラ ズ\n",
      "ー 6 5 タ レ\n",
      "ー 5 4 マ レ\n",
      "ー 5 4 ニ タ\n",
      "ー 6 5 ア ノ\n",
      "ー 7 2 ホ リ\n",
      "ー 7 5 ィ ジ\n",
      "ー 7 6 ォ レ\n",
      "ー 5 3 エ ゲ\n",
      "ー 7 5 ァ レ\n",
      "ー 10 6 ル ジ\n",
      "ー 4 3 タ レ\n",
      "ー 5 4 ナ レ\n",
      "ー 6 5 マ レ\n",
      "ー 6 5 ラ レ\n",
      "レ 6 6 ー \n",
      "レ 6 6 ー \n",
      "レ 3 1  ッ\n",
      "レ 5 5 ー \n",
      "レ 4 2 セ ッ\n",
      "レ 7 4 フ ッ\n",
      "レ 4 1  イ\n",
      "レ 7 4 ビ ッ\n",
      "レ 7 7 ー \n",
      "レ 4 1  ノ\n",
      "レ 7 6 ー ン\n",
      "レ 4 4 ー \n",
      "レ 5 5 ー \n",
      "レ 4 2 セ ッ\n",
      "レ 6 6 ー \n",
      "レ 6 6 ー \n",
      "ン 6 2 コ サ\n",
      "ン 6 2 ア ト\n",
      "ン 6 3 ロ タ\n",
      "ン 3 2 ガ バ\n",
      "ン 3 3 ガ \n",
      "ン 5 3 ラ パ\n",
      "ン 7 2 サ フ\n",
      "ン 6 2 モ テ\n",
      "ン 7 3 ァ フ\n",
      "ン 5 5 ゲ \n",
      "ン 3 2 サ ガ\n",
      "ン 7 7 レ \n",
      "ン 9 2 ガ バ\n",
      "ン 6 5 ァ ツ\n",
      "ン 6 3 ァ ラ\n"
     ]
    }
   ],
   "source": [
    "for i in ind[:3]:\n",
    "    c = kana_rev[i]\n",
    "    for name in df.NAME.values:\n",
    "        if c in name:\n",
    "            num = len(name)\n",
    "            ind_c = name.index(c)\n",
    "            if num-1 == ind_c:c_aft = \"\"\n",
    "            else:c_aft = name[ind_c+1]\n",
    "            if ind_c == 0: c_bef = \"\"\n",
    "            else: c_bef = name[ind_c-1]\n",
    "            print(c,num,ind_c+1,c_bef,c_aft)"
   ]
  },
  {
   "cell_type": "markdown",
   "metadata": {},
   "source": [
    "## 2音節では何が多い？"
   ]
  },
  {
   "cell_type": "code",
   "execution_count": 8,
   "metadata": {},
   "outputs": [
    {
     "name": "stdout",
     "output_type": "stream",
     "text": [
      "ーレ: 9\n",
      "レッ: 5\n",
      "スパ: 3\n",
      "ガン: 3\n",
      "ッソ: 3\n",
      "ディ: 3\n",
      "ファ: 3\n",
      "ユナ: 3\n",
      "ナイ: 3\n",
      "イテ: 3\n"
     ]
    },
    {
     "data": {
      "image/png": "[encoded data removed]",
      "text/plain": [
       "<Figure size 432x288 with 1 Axes>"
      ]
     },
     "metadata": {
      "needs_background": "light"
     },
     "output_type": "display_data"
    }
   ],
   "source": [
    "def cnt_pop_2char(names):\n",
    "    bi = {}\n",
    "    for name in names:\n",
    "        n_name = len(name)\n",
    "        for i in range(n_name-1):\n",
    "            if name[i] in kana_rev.values() and name[i+1] in kana_rev.values():\n",
    "                s2 = name[i]+name[i+1]\n",
    "                if s2 not in bi.keys():\n",
    "                    bi[s2] = 1\n",
    "                else:\n",
    "                    bi[s2] += 1\n",
    "    return bi\n",
    "\n",
    "bi = cnt_pop_2char(df.NAME.values)\n",
    "\n",
    "# 可視化\n",
    "Ss, labels = [], []\n",
    "for k, v in sorted(bi.items(), key=lambda x: x[1],reverse=True)[:10]:\n",
    "    print(str(k) + \": \" + str(v))\n",
    "    Ss.append(v)\n",
    "    labels.append(k)\n",
    "plt.title(\"2 Characters\")\n",
    "plt.bar(range(len(Ss)),Ss,tick_label=labels,color=\"#3498db\")\n",
    "plt.savefig(\"sc_2characters.png\")"
   ]
  }
 ],
 "metadata": {
  "kernelspec": {
   "display_name": "Python 3",
   "language": "python",
   "name": "python3"
  },
  "language_info": {
   "codemirror_mode": {
    "name": "ipython",
    "version": 3
   },
   "file_extension": ".py",
   "mimetype": "text/x-python",
   "name": "python",
   "nbconvert_exporter": "python",
   "pygments_lexer": "ipython3",
   "version": "3.6.3"
  }
 },
 "nbformat": 4,
 "nbformat_minor": 2
}
