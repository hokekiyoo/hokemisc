{
 "cells": [
  {
   "cell_type": "markdown",
   "metadata": {},
   "source": [
    "## シミュレータ\n",
    "- 勝敗により、どうやってレートが更新されるか\n",
    "- Nチームを段階的に強さを変えている\n",
    "    - i番目のチームはi-1番目のチームよりr倍強い\n",
    "- 勝率は強さの比\n",
    "- 総当りをN回繰り返して、レート変化を見る"
   ]
  },
  {
   "cell_type": "code",
   "execution_count": 1,
   "metadata": {},
   "outputs": [],
   "source": [
    "%matplotlib inline\n",
    "import numpy as np\n",
    "import matplotlib.pyplot as plt\n",
    "import random\n",
    "rate = 1.2\n",
    "N = 10\n",
    "loop = 100\n",
    "\n",
    "class Country():\n",
    "    def __init__(self, strength,fifa_rate,rugby_rate,name=\"\"):\n",
    "        self.name = name\n",
    "        self.strength = strength\n",
    "        self.fifa_rate = rugby_rate\n",
    "        self.rugby_rate = fifa_rate\n",
    "        \n",
    "    def update_FIFA(self, is_win, opponent_rate):\n",
    "        # FIFAランキング用レート\n",
    "        diff_rate = opponent_rate - self.fifa_rate \n",
    "        ex = 1/(10**(diff_rate/600)+1)\n",
    "        if is_win:\n",
    "            # 勝った場合\n",
    "            score = 30 * (1 - ex)\n",
    "            self.fifa_rate += score\n",
    "            # self.fifa_rate += max(score, 60)\n",
    "        else:\n",
    "            # 負けた場合\n",
    "            score = 30 * ex\n",
    "            self.fifa_rate -= score\n",
    "            # self.fifa_rate -= max(score, 50)\n",
    "\n",
    "    def update_rugby(self,is_win,opponent_rate):\n",
    "        # ラグビー用レート\n",
    "        diff_rate = opponent_rate - self.rugby_rate\n",
    "        if is_win:#勝ち\n",
    "            # 自分のほうが高い場合\n",
    "            if diff_rate < 0:\n",
    "                self.rugby_rate += max(0, 1+0.1*diff_rate)\n",
    "            else:\n",
    "                self.rugby_rate += min(2, 1+0.1*diff_rate)        \n",
    "        else: #負け\n",
    "            if diff_rate < 0:\n",
    "                self.rugby_rate -= min(2, 1-0.1*diff_rate)\n",
    "            else:\n",
    "                self.rugby_rate -= max(0, 1-0.1*diff_rate)\n",
    "\n",
    "            \n",
    "cs = []\n",
    "for i in range(N):\n",
    "    c = Country(rate**i, 60, 1200)\n",
    "    cs.append(c)\n",
    "cs[-1].strength = cs[-2].strength\n",
    "\n",
    "# 総当りトーナメント loop回繰り返す\n",
    "for _ in range(loop):\n",
    "    for i in range(N):\n",
    "        for j in range(i+1,N):\n",
    "            n = random.random()\n",
    "            c_i = cs[i]\n",
    "            c_j = cs[j]\n",
    "            win_i = (c_i.strength/(c_i.strength+c_j.strength))\n",
    "            if win_i >= n:\n",
    "                # iの勝ち\n",
    "                c_i.update_FIFA(is_win=True, opponent_rate=c_j.fifa_rate)\n",
    "                c_j.update_FIFA(is_win=False, opponent_rate=c_i.fifa_rate)\n",
    "                c_i.update_rugby(is_win=True, opponent_rate=c_j.rugby_rate)\n",
    "                c_j.update_rugby(is_win=False, opponent_rate=c_i.rugby_rate)                \n",
    "                winner = i\n",
    "            else:\n",
    "                # jの勝ち\n",
    "                c_i.update_FIFA(is_win=False, opponent_rate=c_j.fifa_rate)\n",
    "                c_j.update_FIFA(is_win=True, opponent_rate=c_i.fifa_rate)\n",
    "                c_i.update_rugby(is_win=False, opponent_rate=c_j.rugby_rate)\n",
    "                c_j.update_rugby(is_win=True, opponent_rate=c_i.rugby_rate)\n",
    "\n",
    "                winner = j\n",
    "            # print(\"{}:{} -> {} rate {},{}\".format(i,j,winner,cs[i].rugby_rate,cs[j].rugby_rate))"
   ]
  },
  {
   "cell_type": "markdown",
   "metadata": {},
   "source": [
    "## 結果の表示"
   ]
  },
  {
   "cell_type": "code",
   "execution_count": 2,
   "metadata": {},
   "outputs": [
    {
     "name": "stdout",
     "output_type": "stream",
     "text": [
      "0, 1.00,  974.81.  56.40\n",
      "1, 1.20,  1008.06.  55.01\n",
      "2, 1.44,  1008.24.  54.77\n",
      "3, 1.73,  1182.34.  60.59\n",
      "4, 2.07,  1216.91.  59.07\n",
      "5, 2.49,  1112.40.  55.27\n",
      "6, 2.99,  1267.22.  60.96\n",
      "7, 3.58,  1405.70.  64.91\n",
      "8, 4.30,  1439.55.  64.86\n",
      "9, 4.30,  1357.22.  61.98\n"
     ]
    }
   ],
   "source": [
    "for i,c in enumerate(cs):\n",
    "    print(\"{}, {:.2f},  {:.2f}.  {:.2f}\".format(i,c.strength, c.fifa_rate, c.rugby_rate))"
   ]
  },
  {
   "cell_type": "markdown",
   "metadata": {},
   "source": [
    "## ELO Rating\n",
    "\n",
    "- $R_A$ : 自分 \n",
    "- $R_B$ : 相手\n",
    "- $p$ : パラメータ(実力差とレート差の対応)\n",
    "- 勝った場合 $\\mathrm{rate} = 1-\\frac{1}{1+10^{(R_A-R_B)/p}}$ 足す\n",
    "- 負けた場合 $-\\frac{1}{1+10^{(R_A-R_B)/p}}$ 引く"
   ]
  },
  {
   "cell_type": "code",
   "execution_count": 3,
   "metadata": {},
   "outputs": [
    {
     "data": {
      "image/png": "[encoded data removed]",
      "text/plain": [
       "<Figure size 1080x288 with 2 Axes>"
      ]
     },
     "metadata": {
      "needs_background": "light"
     },
     "output_type": "display_data"
    }
   ],
   "source": [
    "def curve(diff,p):\n",
    "    return 2*(1-1/(10**(diff/p)+1))\n",
    "def rugby(diff):\n",
    "    ans = []\n",
    "    for d in diff:\n",
    "        if d > 0:\n",
    "            ans.append(min(2,1+0.1*d))\n",
    "        else:\n",
    "            ans.append(max(0,1+0.1*d))\n",
    "    return np.array(ans)\n",
    "\n",
    "# 2個のグラフの比較\n",
    "plt.figure(figsize=(15,4))\n",
    "plt.subplot(121)\n",
    "x1 = np.linspace(-100,100,201)\n",
    "plt.xlim(-100,100)\n",
    "# ラグビーのレート傾斜\n",
    "plt.plot(x1,rugby(x1),\"b\",alpha=0.7)\n",
    "plt.title(\"RUGBY\")\n",
    "x1 = np.linspace(-1200,1200,201)\n",
    "plt.subplot(122)\n",
    "# FIFAランキングのレーティング曲線はp=600に設定されている\n",
    "plt.plot(x1,curve(x1,600),\"b\",alpha=0.7)\n",
    "plt.title(\"ELO\")\n",
    "plt.xlim(-1200,1200)\n",
    "plt.savefig(\"rate_comparison.png\")"
   ]
  },
  {
   "cell_type": "markdown",
   "metadata": {},
   "source": [
    "## 近似\n",
    "\n",
    "$\\mathrm{rate} = 2\\times\\left(1-\\frac{1}{1+10^{(R_A-R_B)/p}}\\right) $\n",
    "\n",
    "カクカクから曲線に近似しようか。\n",
    "\n",
    "- -15から15くらいの当てはまりを見る\n",
    "- 差の総和で判断(abs)\n",
    "\n"
   ]
  },
  {
   "cell_type": "code",
   "execution_count": 4,
   "metadata": {},
   "outputs": [
    {
     "name": "stderr",
     "output_type": "stream",
     "text": [
      "/home/imaimai/.pyenv/versions/anaconda3-5.3.1/lib/python3.7/site-packages/ipykernel_launcher.py:2: RuntimeWarning: overflow encountered in power\n",
      "  \n"
     ]
    },
    {
     "data": {
      "image/png": "[encoded data removed]",
      "text/plain": [
       "<Figure size 720x360 with 1 Axes>"
      ]
     },
     "metadata": {
      "needs_background": "light"
     },
     "output_type": "display_data"
    },
    {
     "data": {
      "image/png": "[encoded data removed]",
      "text/plain": [
       "<Figure size 720x360 with 1 Axes>"
      ]
     },
     "metadata": {
      "needs_background": "light"
     },
     "output_type": "display_data"
    }
   ],
   "source": [
    "ps = np.linspace(0.01,20,200)\n",
    "diffs = []\n",
    "for p in ps:\n",
    "    x = np.linspace(-15,15,301)\n",
    "    f1 = rugby(x) # ラグビー\n",
    "    f2 = curve(x,p)# ELO Rating\n",
    "    diff = abs(f1-f2)\n",
    "    diffs.append(diff.sum())\n",
    "\n",
    "plt.figure(figsize=(10,5))\n",
    "plt.plot(ps,diffs)\n",
    "\n",
    "# 最小値を求める\n",
    "diffs = np.array(diffs)\n",
    "ind = np.argmin(diffs)\n",
    "p_min = ps[ind]\n",
    "\n",
    "# 近似曲線とプロット\n",
    "plt.figure(figsize=(10,5))\n",
    "x1 = np.linspace(-100,100,201)\n",
    "plt.plot(x1,rugby(x1),label=\"rugby rate\")\n",
    "plt.plot(x1,curve(x1,p_min),label=\"ELO rate (p={:.2f})\".format(p_min))\n",
    "plt.xlim(-100,100)\n",
    "plt.legend()\n",
    "plt.savefig(\"approx.png\")"
   ]
  },
  {
   "cell_type": "markdown",
   "metadata": {},
   "source": [
    "レート差と強さの反映\n",
    "(2019/12/04時点)"
   ]
  },
  {
   "cell_type": "code",
   "execution_count": 5,
   "metadata": {},
   "outputs": [
    {
     "name": "stdout",
     "output_type": "stream",
     "text": [
      "0.2116017820946373\n",
      "0.022026293847367925\n"
     ]
    }
   ],
   "source": [
    "r_sa = 94.19\n",
    "r_ireland = 84.45\n",
    "r_japan = 79.28\n",
    "\n",
    "# 日本とアイルランド\n",
    "p_a = 1/(1+10**((r_ireland-r_japan)/p_min))\n",
    "print(p_a)\n",
    "p_a = 1/(1+10**((r_sa-r_japan)/p_min))\n",
    "print(p_a)\n"
   ]
  },
  {
   "cell_type": "code",
   "execution_count": null,
   "metadata": {},
   "outputs": [],
   "source": []
  }
 ],
 "metadata": {
  "kernelspec": {
   "display_name": "Python 3",
   "language": "python",
   "name": "python3"
  },
  "language_info": {
   "codemirror_mode": {
    "name": "ipython",
    "version": 3
   },
   "file_extension": ".py",
   "mimetype": "text/x-python",
   "name": "python",
   "nbconvert_exporter": "python",
   "pygments_lexer": "ipython3",
   "version": "3.7.0"
  }
 },
 "nbformat": 4,
 "nbformat_minor": 2
}
