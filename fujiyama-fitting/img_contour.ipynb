{
 "cells": [
  {
   "cell_type": "code",
   "execution_count": 1,
   "metadata": {},
   "outputs": [],
   "source": [
    "import cv2\n",
    "%matplotlib inline\n",
    "import matplotlib.pyplot as plt\n",
    "import numpy as np\n",
    "from scipy import stats"
   ]
  },
  {
   "cell_type": "code",
   "execution_count": 2,
   "metadata": {},
   "outputs": [
    {
     "data": {
      "text/plain": [
       "True"
      ]
     },
     "execution_count": 2,
     "metadata": {},
     "output_type": "execute_result"
    }
   ],
   "source": [
    "# 定数定義\n",
    "CANNY_WINDOW_NAME = \"canny\"\n",
    "ORG_FILE_NAME = \"IMG_9159.JPG\"\n",
    "CANNY_FILE_NAME = \"canny.png\"\n",
    "# 元の画像を読み込む\n",
    "org_img = cv2.imread(ORG_FILE_NAME, cv2.IMREAD_UNCHANGED)\n",
    "# グレースケールに変換\n",
    "gray_img = cv2.imread(ORG_FILE_NAME, cv2.IMREAD_GRAYSCALE)\n",
    "# エッジ抽出\n",
    "canny_img = cv2.Canny(gray_img, 50, 110)\n",
    "# ファイルに保存\n",
    "cv2.imwrite(CANNY_FILE_NAME, canny_img)"
   ]
  },
  {
   "cell_type": "code",
   "execution_count": 3,
   "metadata": {},
   "outputs": [
    {
     "data": {
      "image/png": "[encoded data removed]",
      "text/plain": [
       "<Figure size 432x288 with 1 Axes>"
      ]
     },
     "metadata": {
      "needs_background": "light"
     },
     "output_type": "display_data"
    }
   ],
   "source": [
    "# 画像から数値を抽出\n",
    "ns = []\n",
    "max_height = canny_img.shape[0]\n",
    "for i, c in enumerate(canny_img.T):\n",
    "    flg = True\n",
    "    ns.append(max_height - np.argmax(c))#座標反転用(転置すると上下反転していた)\n",
    "ns = np.array(ns)\n",
    "offset = ns.min()\n",
    "fujiyama = ns - offset #山の稜線を出す。\n",
    "plt.xlim(0,1920)\n",
    "plt.ylim(0,1280)\n",
    "plt.plot(ns,color=\"blue\")\n",
    "# データ配列用に並べ替える\n",
    "sample = []\n",
    "for i,n in enumerate(fujiyama):\n",
    "    sample_ = [i]*n\n",
    "    sample.extend(sample_)\n",
    "sample = np.array(sample)"
   ]
  },
  {
   "cell_type": "markdown",
   "metadata": {},
   "source": [
    "## t分布とEMアルゴリズム"
   ]
  },
  {
   "cell_type": "code",
   "execution_count": 4,
   "metadata": {},
   "outputs": [],
   "source": [
    "import matplotlib.pyplot as plt\n",
    "import numpy as np\n",
    "from scipy.special import gamma, digamma\n",
    "\n",
    "\n",
    "class Gaussian(object):\n",
    "    \"\"\"\n",
    "    fit : ハイパーパラメータ(mean, sigma)の調整だけでOK\n",
    "    predict : 正規分布\n",
    "    \"\"\"\n",
    "    def fit(self, x):\n",
    "        self.mu = np.array(x).mean()\n",
    "        self.sigma = np.array(x).std()\n",
    "    \n",
    "    def predict(self, x):\n",
    "        return 1/np.sqrt(2*np.pi*self.sigma**2)*(np.exp(-(x-self.mu)**2/(2*self.sigma**2)))\n",
    "    \n",
    "class RobustGaussian(object):\n",
    "    \"\"\"\n",
    "    平均の代わりにmedianを使う\n",
    "    \"\"\"\n",
    "    def fit(self, x):\n",
    "        self.mu = np.median(np.array(x))\n",
    "        self.sigma = np.sqrt(np.dot(np.array(x)- self.mu, np.array(x)-self.mu)/len(x))\n",
    "\n",
    "    def predict(self,x):\n",
    "        return 1/np.sqrt(2*np.pi*self.sigma**2)*(np.exp(-(x-self.mu)**2/(2*self.sigma**2)))\n",
    "\n",
    "class StudentsT(object):\n",
    "\n",
    "    def __init__(self, mu=0, sigma=1, nu=1, iteration=10, solve_nu=False):\n",
    "        self.mu = mu\n",
    "        self.sigma = sigma\n",
    "        self.nu = nu\n",
    "        self.iteration = iteration\n",
    "        self.solve_nu = solve_nu\n",
    "        \n",
    "    def fit(self, x, N):\n",
    "        # E\n",
    "        self.n = len(x)\n",
    "        for _ in range(N):\n",
    "            self.w = (self.nu+1)/(self.nu+(x-self.mu)**2/self.sigma)\n",
    "            # M\n",
    "            self.mu = np.sum(self.w*x)/np.sum(self.w)\n",
    "            self.sigma = 1/self.n*(np.sum(self.w*(x-self.mu)*(x-self.mu)))\n",
    "            # nuを求める(二分法)\n",
    "            if self.solve_nu:\n",
    "                _a = 1\n",
    "                _b = 3\n",
    "                for i in range(self.iteration):\n",
    "                    _x = (_a+_b)/2.0 # 中点を出す  \n",
    "                    if self._expect_nu(_a)*self._expect_nu(_x) < 0:\n",
    "                        _b = _x\n",
    "                    if self._expect_nu(_b)*self._expect_nu(_x) < 0:\n",
    "                        _a = _x\n",
    "                self.nu = _x\n",
    "    \n",
    "    def _expect_nu(self, nu):\n",
    "        \"\"\"\n",
    "        最尤推定でnuを求めるときの方程式\n",
    "        \"\"\"\n",
    "        x = -digamma(nu/2)+np.log(nu/2)\n",
    "        a1 = 1/self.n*np.sum(np.log(self.w)-self.w)+1\n",
    "        a2 = digamma(self.nu/2+1/2)-np.log(self.nu/2+1/2)\n",
    "        return x+a1+a2\n",
    "    \n",
    "    def predict(self, x):\n",
    "        return (1/np.sqrt(np.pi*self.nu*self.sigma))*gamma((self.nu+1)/2)/gamma(self.nu/2)*np.power(1+1/(self.nu*self.sigma)*(x-self.mu)**2,-(self.nu+1)/2)\n",
    "\n",
    "\n"
   ]
  },
  {
   "cell_type": "code",
   "execution_count": 5,
   "metadata": {
    "scrolled": true
   },
   "outputs": [
    {
     "name": "stdout",
     "output_type": "stream",
     "text": [
      "plot x sample\n",
      "Fit Gaussian\n",
      "Fit Robust Gaussian\n",
      "Fit Students T Distribution\n",
      "1.0072798122065727 0.979\n"
     ]
    },
    {
     "data": {
      "image/png": "[encoded data removed]",
      "text/plain": [
       "<Figure size 691.2x460.8 with 1 Axes>"
      ]
     },
     "metadata": {
      "needs_background": "light"
     },
     "output_type": "display_data"
    }
   ],
   "source": [
    "f =1000 #縮小率\n",
    "data = sample/f\n",
    "print(\"plot x sample\")\n",
    "# prepare model\n",
    "students_t = StudentsT(nu=1)\n",
    "gaussian = Gaussian()\n",
    "gaussian_robust = RobustGaussian()\n",
    "# maximum likelihood estimate\n",
    "gaussian.fit(data)\n",
    "print(\"Fit Gaussian\")\n",
    "gaussian_robust.fit(data)\n",
    "print(\"Fit Robust Gaussian\")\n",
    "students_t.fit(data,100)\n",
    "print(\"Fit Students T Distribution\")\n",
    "\n",
    "print(gaussian.mu, gaussian_robust.mu)\n",
    "\n",
    "# plot results\n",
    "x = np.linspace(0, 1920/f, 1920)\n",
    "# 補正 : x方向にはf倍(圧縮の都合)。y座標は1/f(正規化の都合)*元データのスケールに合わせる\n",
    "fujiyama_student = students_t.predict(x)/f*fujiyama.sum()+offset\n",
    "fujiyama_gaussian = gaussian.predict(x)/f*fujiyama.sum()+offset\n",
    "fujiyama_robust = gaussian_robust.predict(x)/f*fujiyama.sum()+offset\n",
    "\n",
    "# plot\n",
    "plt.figure(figsize=(9.6,6.4))\n",
    "plt.plot(ns,color=\"blue\",label=\"fujiyama\") #富士山関数を正規化\n",
    "# plt.plot(x*f,fujiyama_student, label=\"students t\",color=\"orange\")\n",
    "plt.plot(x*f,fujiyama_gaussian, label=\"normal\",color=\"red\")\n",
    "plt.plot(x*f,fujiyama_robust, label=\"robust normal\",color=\"green\")\n",
    "\n",
    "plt.xlim(0,1920)\n",
    "plt.ylim(0,1280)\n",
    "plt.legend()\n",
    "plt.savefig(\"fitting.png\",transparent=True)\n"
   ]
  },
  {
   "cell_type": "code",
   "execution_count": 6,
   "metadata": {},
   "outputs": [
    {
     "name": "stdout",
     "output_type": "stream",
     "text": [
      "plot x sample\n",
      "Fit Gaussian\n",
      "Fit Robust Gaussian\n",
      "Fit Students T Distribution\n",
      "1.0072798122065727 0.979\n"
     ]
    },
    {
     "data": {
      "image/png": "[encoded data removed]",
      "text/plain": [
       "<Figure size 432x288 with 1 Axes>"
      ]
     },
     "metadata": {
      "needs_background": "light"
     },
     "output_type": "display_data"
    },
    {
     "data": {
      "image/png": "[encoded data removed]",
      "text/plain": [
       "<Figure size 691.2x460.8 with 1 Axes>"
      ]
     },
     "metadata": {
      "needs_background": "light"
     },
     "output_type": "display_data"
    }
   ],
   "source": [
    "import cv2\n",
    "%matplotlib inline\n",
    "import matplotlib.pyplot as plt\n",
    "import numpy as np\n",
    "from scipy import stats\n",
    "# 定数定義\n",
    "CANNY_WINDOW_NAME = \"canny\"\n",
    "ORG_FILE_NAME = \"IMG_9159.JPG\"\n",
    "CANNY_FILE_NAME = \"canny.png\"\n",
    "# 元の画像を読み込む\n",
    "org_img = cv2.imread(ORG_FILE_NAME, cv2.IMREAD_UNCHANGED)\n",
    "# グレースケールに変換\n",
    "gray_img = cv2.imread(ORG_FILE_NAME, cv2.IMREAD_GRAYSCALE)\n",
    "# エッジ抽出\n",
    "canny_img = cv2.Canny(gray_img, 50, 110)\n",
    "# ファイルに保存\n",
    "cv2.imwrite(CANNY_FILE_NAME, canny_img)\n",
    "# 画像から数値を抽出\n",
    "ns = []\n",
    "max_height = canny_img.shape[0]\n",
    "for i, c in enumerate(canny_img.T):\n",
    "    flg = True\n",
    "    ns.append(max_height - np.argmax(c))#座標反転用(転置すると上下反転していた)\n",
    "ns = np.array(ns)\n",
    "offset = ns.min()\n",
    "fujiyama = ns - offset #山の稜線を出す。\n",
    "plt.xlim(0,1920)\n",
    "plt.ylim(0,1280)\n",
    "plt.plot(ns,color=\"blue\")\n",
    "# データ配列用に並べ替える\n",
    "sample = []\n",
    "for i,n in enumerate(fujiyama):\n",
    "    sample_ = [i]*n\n",
    "    sample.extend(sample_)\n",
    "sample = np.array(sample)\n",
    "import matplotlib.pyplot as plt\n",
    "import numpy as np\n",
    "from scipy.special import gamma, digamma\n",
    "\n",
    "\n",
    "class Gaussian(object):\n",
    "    \"\"\"\n",
    "    fit : ハイパーパラメータ(mean, sigma)の調整だけでOK\n",
    "    predict : 正規分布\n",
    "    \"\"\"\n",
    "    def fit(self, x):\n",
    "        self.mu = np.array(x).mean()\n",
    "        self.sigma = np.array(x).std()\n",
    "    \n",
    "    def predict(self, x):\n",
    "        return 1/np.sqrt(2*np.pi*self.sigma**2)*(np.exp(-(x-self.mu)**2/(2*self.sigma**2)))\n",
    "    \n",
    "class RobustGaussian(object):\n",
    "    \"\"\"\n",
    "    平均の代わりにmedianを使う\n",
    "    \"\"\"\n",
    "    def fit(self, x):\n",
    "        self.mu = np.median(np.array(x))\n",
    "        self.sigma = np.sqrt(np.dot(np.array(x)- self.mu, np.array(x)-self.mu)/len(x))\n",
    "\n",
    "    def predict(self,x):\n",
    "        return 1/np.sqrt(2*np.pi*self.sigma**2)*(np.exp(-(x-self.mu)**2/(2*self.sigma**2)))\n",
    "\n",
    "class StudentsT(object):\n",
    "\n",
    "    def __init__(self, mu=0, sigma=1, nu=1, iteration=10, solve_nu=False):\n",
    "        self.mu = mu\n",
    "        self.sigma = sigma\n",
    "        self.nu = nu\n",
    "        self.iteration = iteration\n",
    "        self.solve_nu = solve_nu\n",
    "        \n",
    "    def fit(self, x, N):\n",
    "        # E\n",
    "        self.n = len(x)\n",
    "        for _ in range(N):\n",
    "            self.w = (self.nu+1)/(self.nu+(x-self.mu)**2/self.sigma)\n",
    "            # M\n",
    "            self.mu = np.sum(self.w*x)/np.sum(self.w)\n",
    "            self.sigma = 1/self.n*(np.sum(self.w*(x-self.mu)*(x-self.mu)))\n",
    "            # nuを求める(二分法)\n",
    "            if self.solve_nu:\n",
    "                _a = 1\n",
    "                _b = 3\n",
    "                for i in range(self.iteration):\n",
    "                    _x = (_a+_b)/2.0 # 中点を出す  \n",
    "                    if self._expect_nu(_a)*self._expect_nu(_x) < 0:\n",
    "                        _b = _x\n",
    "                    if self._expect_nu(_b)*self._expect_nu(_x) < 0:\n",
    "                        _a = _x\n",
    "                self.nu = _x\n",
    "    \n",
    "    def _expect_nu(self, nu):\n",
    "        \"\"\"\n",
    "        最尤推定でnuを求めるときの方程式\n",
    "        \"\"\"\n",
    "        x = -digamma(nu/2)+np.log(nu/2)\n",
    "        a1 = 1/self.n*np.sum(np.log(self.w)-self.w)+1\n",
    "        a2 = digamma(self.nu/2+1/2)-np.log(self.nu/2+1/2)\n",
    "        return x+a1+a2\n",
    "    \n",
    "    def predict(self, x):\n",
    "        return (1/np.sqrt(np.pi*self.nu*self.sigma))*gamma((self.nu+1)/2)/gamma(self.nu/2)*np.power(1+1/(self.nu*self.sigma)*(x-self.mu)**2,-(self.nu+1)/2)\n",
    "\n",
    "f =1000 #縮小率\n",
    "data = sample/f\n",
    "print(\"plot x sample\")\n",
    "# prepare model\n",
    "students_t = StudentsT(nu=1)\n",
    "gaussian = Gaussian()\n",
    "gaussian_robust = RobustGaussian()\n",
    "# maximum likelihood estimate\n",
    "gaussian.fit(data)\n",
    "print(\"Fit Gaussian\")\n",
    "gaussian_robust.fit(data)\n",
    "print(\"Fit Robust Gaussian\")\n",
    "students_t.fit(data,100)\n",
    "print(\"Fit Students T Distribution\")\n",
    "\n",
    "print(gaussian.mu, gaussian_robust.mu)\n",
    "\n",
    "# plot results\n",
    "x = np.linspace(0, 1920/f, 1920)\n",
    "# 補正 : x方向にはf倍(圧縮の都合)。y座標は1/f(正規化の都合)*元データのスケールに合わせる\n",
    "fujiyama_student = students_t.predict(x)/f*fujiyama.sum()+offset\n",
    "fujiyama_gaussian = gaussian.predict(x)/f*fujiyama.sum()+offset\n",
    "fujiyama_robust = gaussian_robust.predict(x)/f*fujiyama.sum()+offset\n",
    "\n",
    "# plot\n",
    "plt.figure(figsize=(9.6,6.4))\n",
    "plt.plot(ns,color=\"blue\",label=\"fujiyama\") #富士山関数を正規化\n",
    "plt.plot(x*f,fujiyama_student, label=\"students t\",color=\"orange\")\n",
    "plt.plot(x*f,fujiyama_gaussian, label=\"normal\",color=\"red\")\n",
    "plt.plot(x*f,fujiyama_robust, label=\"robust normal\",color=\"green\")\n",
    "\n",
    "plt.xlim(0,1920)\n",
    "plt.ylim(0,1280)\n",
    "plt.legend()\n",
    "plt.savefig(\"fitting.png\",transparent=True)\n",
    "\n"
   ]
  },
  {
   "cell_type": "code",
   "execution_count": null,
   "metadata": {},
   "outputs": [],
   "source": []
  }
 ],
 "metadata": {
  "anaconda-cloud": {},
  "kernelspec": {
   "display_name": "Python 3",
   "language": "python",
   "name": "python3"
  },
  "language_info": {
   "codemirror_mode": {
    "name": "ipython",
    "version": 3
   },
   "file_extension": ".py",
   "mimetype": "text/x-python",
   "name": "python",
   "nbconvert_exporter": "python",
   "pygments_lexer": "ipython3",
   "version": "3.6.3"
  }
 },
 "nbformat": 4,
 "nbformat_minor": 2
}
