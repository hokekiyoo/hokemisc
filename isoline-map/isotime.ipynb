{
 "cells": [
  {
   "cell_type": "markdown",
   "metadata": {},
   "source": [
    "\n"
   ]
  },
  {
   "cell_type": "markdown",
   "metadata": {},
   "source": [
    "## 等時間線を求める"
   ]
  },
  {
   "cell_type": "code",
   "execution_count": null,
   "metadata": {},
   "outputs": [],
   "source": [
    "%matplotlib inline\n",
    "# モジュールのインポート\n",
    "import pandas as pd\n",
    "import urllib\n",
    "import urllib.error\n",
    "import urllib.request\n",
    "import json\n",
    "import numpy as np\n",
    "\n",
    "import matplotlib.pyplot as plt\n"
   ]
  },
  {
   "cell_type": "code",
   "execution_count": null,
   "metadata": {},
   "outputs": [],
   "source": [
    "def getdist(amode, orig, dest):\n",
    "    # htmlの設定\n",
    "    apikey = \"********************\" # Google APIkey を入れる\n",
    "    html=\"https://maps.googleapis.com/maps/api/distancematrix/json?key={}\".format(apikey)\n",
    "    mode = \"&mode={}\".format(amode)\n",
    "    origins=\"&origins={},{}\".format(orig[0],orig[1])\n",
    "    destinations = \"&destinations={},{}\".format(dest[0],dest[1])\n",
    "    departure = \"&departure_time=now\"\n",
    "    url = html+mode+origins+destinations+departure\n",
    "    try:\n",
    "        data = urllib.request.urlopen(url).read()\n",
    "        return json.loads(data)\n",
    "    except urllib.error.URLError as e:\n",
    "        print(e)\n",
    "\n",
    "def vec(r,theta,orig):\n",
    "    # 出発点からの極座標表示\n",
    "    dx = r*np.cos(theta*np.pi/180)\n",
    "    dy = r*np.sin(theta*np.pi/180)\n",
    "    x,y = orig\n",
    "    return (x+dx,y+dy)\n"
   ]
  },
  {
   "cell_type": "markdown",
   "metadata": {},
   "source": [
    "なるほど....\n",
    ">In which countries are transit directions available?\n",
    "The Google Maps Directions Service, which includes the Directions API and Distance Matrix API, supports all the transit providers in the transit coverage list, except for those **in Japan.**\n"
   ]
  },
  {
   "cell_type": "code",
   "execution_count": null,
   "metadata": {},
   "outputs": [],
   "source": [
    "modes = [\"walking\", \"driving\",\"bicycling\",\"transit\"]\n",
    "thetas = [i for i in range(0,360,10)]\n",
    "# orig = (51.519763556894745, -0.12634440352170292) ## ロンドン\n",
    "# orig = (35.68215955756656, 139.76700248367473) ## 東京駅\n",
    "# orig = (50.130828242430816, 14.436294767800266) #プラハ\n",
    "seconds =[86400, 10800,3600,1800,600] \n",
    "for m in seconds:\n",
    "    result = {}\n",
    "    for mode in modes:\n",
    "        print(\"------{}-----\".format(mode))\n",
    "        xs = []\n",
    "        ys = []\n",
    "        for i in thetas:\n",
    "            # 二部探索フェーズ\n",
    "            r = 15\n",
    "            l = 0.0001\n",
    "            while r - l > 0.001:\n",
    "                mid = (l*r)**0.5\n",
    "                d = vec(mid, i, orig)\n",
    "                ret = getdist(mode, orig, d)\n",
    "                try: \n",
    "                    ans = ret[\"rows\"][0][\"elements\"][0]\n",
    "                    if \"duration_in_traffic\" in ans.keys():\n",
    "                        s = ans[\"duration_in_traffic\"][\"value\"]\n",
    "                    else:\n",
    "                        s = ans[\"duration\"][\"value\"]\n",
    "                except:\n",
    "                    r = mid\n",
    "                    continue\n",
    "                if int(s) < m:\n",
    "                    l = mid\n",
    "                else:\n",
    "                    r = mid\n",
    "            print(i, r)\n",
    "            # その角度でのradiusを出す\n",
    "            cood = vec(r, i, orig)\n",
    "            xs.append(cood[0])        \n",
    "            ys.append(cood[1])\n",
    "        result[mode]={\"lat\":xs, \"lng\":ys}\n",
    "    with open('data/data_{}.json'.format(m), 'w') as f:\n",
    "        json.dump(result, f, indent=4)\n"
   ]
  }
 ],
 "metadata": {
  "kernelspec": {
   "display_name": "Python 3",
   "language": "python",
   "name": "python3"
  },
  "language_info": {
   "codemirror_mode": {
    "name": "ipython",
    "version": 3
   },
   "file_extension": ".py",
   "mimetype": "text/x-python",
   "name": "python",
   "nbconvert_exporter": "python",
   "pygments_lexer": "ipython3",
   "version": "3.7.0"
  }
 },
 "nbformat": 4,
 "nbformat_minor": 2
}
