{
 "cells": [
  {
   "cell_type": "code",
   "execution_count": null,
   "metadata": {
    "collapsed": true
   },
   "outputs": [],
   "source": [
    "%matplotlib inline\n",
    "import matplotlib.pyplot as plt\n",
    "import pandas as pd\n",
    "import os\n",
    "import numpy as np\n",
    "import scipy"
   ]
  },
  {
   "cell_type": "markdown",
   "metadata": {},
   "source": [
    "## メダル獲得国の抽出"
   ]
  },
  {
   "cell_type": "code",
   "execution_count": null,
   "metadata": {
    "collapsed": true
   },
   "outputs": [],
   "source": [
    "df_host = pd.read_csv(\"data/host_country.csv\")\n",
    "years = df_host[\"年\"][:-1]\n",
    "countries = []\n",
    "for year in years:\n",
    "    ### ポイント計算\n",
    "    try:\n",
    "        df_1 = pd.read_csv(\"data/points/{}_point.csv\".format(year))\n",
    "    except:\n",
    "        df_1 = pd.read_csv(\"data/points/{}_point.csv\".format(year),encoding=\"shift-jis\")\n",
    "    df_1[\"point\"] = df_1[\"金\"]*5+df_1[\"銀\"]*3+df_1[\"銅\"]\n",
    "    countries.extend(df_1[\"国・地域\"].values)\n",
    "countries = list(set(countries))"
   ]
  },
  {
   "cell_type": "markdown",
   "metadata": {},
   "source": [
    "## 緯度経度"
   ]
  },
  {
   "cell_type": "code",
   "execution_count": null,
   "metadata": {
    "collapsed": true
   },
   "outputs": [],
   "source": [
    "df = pd.read_csv(\"data/latilong.csv\")\n",
    "cs = []\n",
    "col = [\"namejps\",\"namens\",\"lat\",\"lon\"]\n",
    "for c in countries:\n",
    "    df_ex = df[df.namejps==c]\n",
    "    if(len(df_ex)==1):\n",
    "        cs.append(df_ex[col].values[0])\n",
    "    else:continue\n",
    "df_main = pd.DataFrame(cs,columns=col)\n"
   ]
  },
  {
   "cell_type": "markdown",
   "metadata": {},
   "source": [
    "## データの結合"
   ]
  },
  {
   "cell_type": "code",
   "execution_count": null,
   "metadata": {
    "collapsed": true,
    "scrolled": true
   },
   "outputs": [],
   "source": [
    "# 各種データ読み込み\n",
    "df_gdp = pd.read_csv(\"data/gdp.csv\")\n",
    "for k in df_gdp.keys()[1:]:\n",
    "    df_gdp[k] = df_gdp[k].apply(lambda x: int(x.replace(\"...\",\"0\").replace(\",\",\"\")))\n",
    "df_population = pd.read_csv(\"data/population.csv\")\n",
    "for k in df_population.keys()[1:]:\n",
    "    df_population[k] = df_population[k].apply(lambda x: int(x.replace(\"...\",\"0\").replace(\",\",\"\")))\n",
    "df_temp = pd.read_csv(\"data/temperature.csv\")\n",
    "# カラムの設定\n",
    "df_temp = df_temp[[\"name\",\"Annual\"]]\n",
    "columns = [\"国名\"]\n",
    "columns.extend([str(y)+\"年\" for y in years])\n",
    "# 切り取り\n",
    "df_gdp = df_gdp[columns]\n",
    "df_population = df_population[columns]\n",
    "data = []\n",
    "for country in df_main.namens.values:\n",
    "    res = []\n",
    "    latilong = df[df.namens==country][[\"namejps\",\"lat\",\"lon\"]]\n",
    "    gdps = df_gdp[df_gdp[\"国名\"]==country]\n",
    "    pops = df_population[df_population[\"国名\"]==country]\n",
    "    temperature = df_temp[df_temp[\"name\"]==country.upper()]\n",
    "    if len(gdps)!=0:\n",
    "        res.extend(gdps.values[0])\n",
    "        res.extend(pops.values[0][1:])\n",
    "        res.extend(temperature.values[0][1:])#平均気温\n",
    "        res.extend(latilong.values[0])\n",
    "        data.append(res)\n",
    "col = [\"国名\"]\n",
    "col.extend([str(y)+\"年gdp\" for y in years])\n",
    "col.extend([str(y)+\"年pops\" for y in years])\n",
    "col.extend([\"temperature\",\"国名(日本)\",\"lati\",\"long\"])\n",
    "df_gdpop = pd.DataFrame(data,columns=col)\n",
    "df_gdpop[[str(y)+\"年gdp\" for y in years]] = np.log(df_gdpop[[str(y)+\"年gdp\" for y in years]]+1) # logバージョン\n",
    "df_gdpop[[str(y)+\"年pops\" for y in years]] = np.log(df_gdpop[[str(y)+\"年pops\" for y in years]]+1) # logバージョン"
   ]
  },
  {
   "cell_type": "code",
   "execution_count": null,
   "metadata": {},
   "outputs": [],
   "source": [
    "df_host = pd.read_csv(\"data/host_country.csv\")\n",
    "# years = df_host[\"年\"]\n",
    "medal_cs = []\n",
    "for year in years[:-1]:\n",
    "    try:\n",
    "        df_1 = pd.read_csv(\"data/points/{}_point.csv\".format(year))\n",
    "    except:\n",
    "        df_1 = pd.read_csv(\"data/points/{}_point.csv\".format(year),encoding=\"shift-jis\")\n",
    "    medal_cs = df_1[\"国・地域\"].values\n",
    "    points = []\n",
    "    for con in df_gdpop[\"国名(日本)\"].values:\n",
    "        ex = df_1[df_1['国・地域']==con]\n",
    "        if len(ex) == 0:\n",
    "            points.append(0)\n",
    "        else:\n",
    "            points.append(ex.point.values[0])\n",
    "    df_gdpop[\"{}point\".format(year)] = points\n",
    "df_gdpop.head()"
   ]
  },
  {
   "cell_type": "markdown",
   "metadata": {},
   "source": [
    "## 二地点の距離\n",
    "https://qiita.com/s-wakaba/items/e12f2a575b6885579df7"
   ]
  },
  {
   "cell_type": "code",
   "execution_count": null,
   "metadata": {
    "collapsed": true
   },
   "outputs": [],
   "source": [
    "from math import sin, cos, acos, radians\n",
    "earth_rad = 6378.137\n",
    "def latlng_to_xyz(lat, lng):\n",
    "    rlat, rlng = radians(lat), radians(lng)\n",
    "    coslat = cos(rlat)\n",
    "    return coslat*cos(rlng), coslat*sin(rlng), sin(rlat)\n",
    "\n",
    "\n",
    "def dist_on_earth(pos0, pos1, radious=earth_rad):\n",
    "    xyz0 = latlng_to_xyz(pos0[0], pos0[1])\n",
    "    xyz1 = latlng_to_xyz(pos1[0], pos1[1])\n",
    "    return acos(sum(x * y for x, y in zip(xyz0, xyz1)))*radious\n",
    "\n",
    "for y in years:\n",
    "    dists = []\n",
    "    pos1s = df_gdpop[[\"lati\",\"long\"]].values\n",
    "    pos0 = df_host[df_host.年 == y][[\"緯度\",\"経度\"]].values[0]\n",
    "    for pos1 in pos1s:\n",
    "#         print(pos0,pos1)\n",
    "        dists.append(dist_on_earth(pos0,pos1))\n",
    "    df_gdpop[\"{}年dist\".format(y)] = dists\n",
    "# df_gdpop"
   ]
  },
  {
   "cell_type": "code",
   "execution_count": null,
   "metadata": {},
   "outputs": [],
   "source": [
    "df_gdpop.to_csv(\"data/main.csv\")\n",
    "df_gdpop.head()"
   ]
  },
  {
   "cell_type": "markdown",
   "metadata": {},
   "source": [
    "## 正規化定数"
   ]
  },
  {
   "cell_type": "code",
   "execution_count": null,
   "metadata": {},
   "outputs": [],
   "source": [
    "## 正規化用\n",
    "a = df_gdp[[str(y)+\"年\" for y in years[:-1]]] #通常\n",
    "a = np.log(df_gdp[[str(y)+\"年\" for y in years[:-1]]]+1) #log\n",
    "max_gdp, min_gdp = a.max(),a.min()\n",
    "mean_gdp, std_gdp = a.mean(),a.std()\n",
    "\n",
    "# max_pop, min_pop = df_population[[str(y)+\"年\" for y in years[:-1]]].max(),df_population[[str(y)+\"年\" for y in years[:-1]]].min()\n",
    "mean_pop, std_pop = df_population[[str(y)+\"年\" for y in years[:-1]]].mean(),df_population[[str(y)+\"年\" for y in years[:-1]]].std() #通常\n",
    "mean_pop, std_pop = np.log(df_population[[str(y)+\"年\" for y in years[:-1]]]).mean(),np.log(df_population[[str(y)+\"年\" for y in years[:-1]]]).std() #log\n",
    "\n",
    "max_temp, min_temp = df_temp[\"Annual\"].max(),df_temp[\"Annual\"].min()\n",
    "mean_temp, std_temp = df_temp[\"Annual\"].mean(),df_temp[\"Annual\"].std()\n",
    "\n",
    "## 70F以上の温度が多すぎるのでcut\n",
    "# a = df_temp[df_temp.Annual < 70 ].Annual\n",
    "# mean_temp, std_temp = a.mean(), a.std()"
   ]
  },
  {
   "cell_type": "code",
   "execution_count": null,
   "metadata": {
    "collapsed": true
   },
   "outputs": [],
   "source": [
    "## 年別に抽出\n",
    "data_frame_all = pd.DataFrame(index=[], columns=[\"country\",'gdp', 'pops',\"temp\",\"dist\",\"point\"])\n",
    "for i, year in enumerate(years[:-1]):\n",
    "    data_frame = pd.DataFrame(index=[], columns=[\"country\",'gdp', 'pops',\"temp\",\"dist\",\"point\"])\n",
    "    columns = [\"国名\",\"temperature\"]\n",
    "    columns.extend([str(year)+\"年gdp\",str(year)+\"年pops\",str(year)+\"年dist\",str(year)+\"point\"])\n",
    "    df_main = df_gdpop[columns]\n",
    "    \n",
    "    # 正規化\n",
    "    data_frame[\"gdp\"] = (df_main[str(year)+\"年gdp\"]-mean_gdp[str(year)+\"年\"])/(std_gdp[str(year)+\"年\"])\n",
    "\n",
    "    pops = df_main[str(year)+\"年pops\"]\n",
    "    data_frame[\"pops\"] = (df_main[str(year)+\"年pops\"] - mean_pop[str(year)+\"年\"])/std_pop[str(year)+\"年\"]\n",
    "    \n",
    "    dist = df_main[str(year)+\"年dist\"]\n",
    "    data_frame[\"dist\"] = (df_main[str(year)+\"年dist\"]-dist.mean())/dist.std()\n",
    "    temp = df_main[\"temperature\"]\n",
    "    data_frame[\"temp\"] = (df_main[\"temperature\"]-mean_temp)/std_temp\n",
    "    data_frame.country = df_main[\"国名\"]\n",
    "    data_frame[\"point\"] = df_main[str(year)+\"point\"]\n",
    "    if i == 0:\n",
    "        data_frame_all = data_frame.copy()\n",
    "    else:\n",
    "        data_frame_all = data_frame_all.append(data_frame,ignore_index=True)\n",
    "df_not0 = data_frame_all[data_frame_all.point!=0]"
   ]
  },
  {
   "cell_type": "markdown",
   "metadata": {},
   "source": [
    "## 回帰分析"
   ]
  },
  {
   "cell_type": "code",
   "execution_count": null,
   "metadata": {},
   "outputs": [],
   "source": [
    "from sklearn.linear_model import LinearRegression\n",
    "col = [\"temp\", \"gdp\",\"pops\",\"dist\"]\n",
    "\n",
    "\n",
    "clf = LinearRegression()\n",
    "Y = df_not0[\"point\"].as_matrix()\n",
    "X = df_not0[col].as_matrix()\n",
    "\n",
    "clf.fit(X,Y)\n",
    "\n",
    "df_not0[\"predict\"] = clf.predict(X)\n",
    "print(clf.intercept_)\n",
    "pd.DataFrame({\"Name\":col,\n",
    "                    \"Coeff\":clf.coef_}).sort_values(by=\"Coeff\")"
   ]
  },
  {
   "cell_type": "code",
   "execution_count": null,
   "metadata": {},
   "outputs": [],
   "source": [
    "country = \"Japan\"\n",
    "df_not0[df_not0.country==country]#[[\"country\",\"point\",\"predict\"]]\n"
   ]
  },
  {
   "cell_type": "markdown",
   "metadata": {},
   "source": [
    "## GDP等のヒストグラムを見る"
   ]
  },
  {
   "cell_type": "code",
   "execution_count": null,
   "metadata": {},
   "outputs": [],
   "source": [
    "# GDP\n",
    "plt.figure(figsize=(10,5))\n",
    "log = np.log(df_gdp[\"2010年\"]+1)\n",
    "log.hist(bins=50)\n",
    "plt.xlabel(\"GDP\")\n",
    "plt.ylabel(\"counts\")\n",
    "plt.title(\"GDP histogram\")\n",
    "\n",
    "# Temperature\n",
    "plt.figure(figsize=(10,5))\n",
    "((df_temp[\"Annual\"]-30)/2).hist(bins=50)\n",
    "plt.xlabel(\"Temperature\")\n",
    "plt.ylabel(\"counts\")\n",
    "plt.title(\"temperature histogram\")\n",
    "# df_population[\"2010年\"].hist(bins=50)\n",
    "# df_dist[\"2010年dist\"].hist(bins=10)"
   ]
  },
  {
   "cell_type": "code",
   "execution_count": null,
   "metadata": {
    "collapsed": true
   },
   "outputs": [],
   "source": []
  }
 ],
 "metadata": {
  "kernelspec": {
   "display_name": "Python 3",
   "language": "python",
   "name": "python3"
  },
  "language_info": {
   "codemirror_mode": {
    "name": "ipython",
    "version": 3
   },
   "file_extension": ".py",
   "mimetype": "text/x-python",
   "name": "python",
   "nbconvert_exporter": "python",
   "pygments_lexer": "ipython3",
   "version": "3.6.3"
  }
 },
 "nbformat": 4,
 "nbformat_minor": 2
}
